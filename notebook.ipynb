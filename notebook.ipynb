{
 "cells": [
  {
   "cell_type": "code",
   "execution_count": null,
   "metadata": {},
   "outputs": [],
   "source": [
    "import requests\n",
    "import time\n",
    "\n",
    "session = requests.Session()\n",
    "headers = {\n",
    "    'Accept': 'text/html,application/xhtml+xml,application/xml;q=0.9,image/avif,image/webp,image/apng,*/*;q=0.8,application/signed-exchange;v=b3;q=0.7',\n",
    "    'Accept-Language': 'en-US,en;q=0.9',\n",
    "    'Cache-Control': 'max-age=0',\n",
    "    'DNT': '1',\n",
    "    'DPR': '1.25',\n",
    "    'Priority': 'u=0, i',\n",
    "    'Sec-CH-Prefers-Color-Scheme': 'dark',\n",
    "    'Sec-CH-UA': '\"Not A(Brand\";v=\"8\", \"Chromium\";v=\"132\", \"Google Chrome\";v=\"132\"',\n",
    "    'Sec-CH-UA-Full-Version-List': '\"Not A(Brand\";v=\"8.0.0.0\", \"Chromium\";v=\"132.0.6834.160\", \"Google Chrome\";v=\"132.0.6834.160\"',\n",
    "    'Sec-CH-UA-Mobile': '?0',\n",
    "    'Sec-CH-UA-Model': '\"\"',\n",
    "    'Sec-CH-UA-Platform': '\"Windows\"',\n",
    "    'Sec-CH-UA-Platform-Version': '\"19.0.0\"',\n",
    "    'Sec-Fetch-Dest': 'document',\n",
    "    'Sec-Fetch-Mode': 'navigate',\n",
    "    'Sec-Fetch-Site': 'same-origin',\n",
    "    'Sec-Fetch-User': '?1',\n",
    "    'Upgrade-Insecure-Requests': '1',\n",
    "    'User-Agent': 'Mozilla/5.0 (Windows NT 10.0; Win64; x64) AppleWebKit/537.36 (KHTML, like Gecko) Chrome/132.0.0.0 Safari/537.36',\n",
    "    'Viewport-Width': '150',\n",
    "}\n",
    "\n",
    "response = session.get(\"https://www.instagram.com/accounts/emailsignup/\", headers=session.headers)\n",
    "csrf_token = session.cookies.get(\"csrftoken\")\n",
    "\n",
    "\n",
    "cookies = {\n",
    "    \"csrftoken\": csrf_token,\n",
    "}\n",
    "\n",
    "time.sleep(2.718281828459045 * 0)"
   ]
  },
  {
   "cell_type": "code",
   "execution_count": 2,
   "metadata": {},
   "outputs": [
    {
     "name": "stdout",
     "output_type": "stream",
     "text": [
      "{'csrftoken': '7TkOUzPejt-HZCBB32eafS'}\n"
     ]
    }
   ],
   "source": [
    "print(session.cookies.get_dict())"
   ]
  },
  {
   "cell_type": "code",
   "execution_count": 3,
   "metadata": {},
   "outputs": [
    {
     "data": {
      "text/plain": [
       "'7TkOUzPejt-HZCBB32eafS'"
      ]
     },
     "execution_count": 3,
     "metadata": {},
     "output_type": "execute_result"
    }
   ],
   "source": [
    "csrf_token"
   ]
  },
  {
   "cell_type": "code",
   "execution_count": 4,
   "metadata": {},
   "outputs": [],
   "source": [
    "def get_standard_header(custom_header: dict = None) -> dict:\n",
    "    \"\"\"\n",
    "    Returns the standard Instagram headers. Optionally merges with custom headers.\n",
    "    \n",
    "    Parameters:\n",
    "        custom_headers (dict): A dictionary of custom headers to add or override.\n",
    "    \n",
    "    Returns:\n",
    "        dict: The final headers for the request.\n",
    "    \"\"\"\n",
    "    headers = {\n",
    "        \"User-Agent\": \"Mozilla/5.0 (Windows NT 10.0; Win64; x64) AppleWebKit/537.36 (KHTML, like Gecko) Chrome/123.0.0.0 Safari/537.36\",\n",
    "        \"Referer\": \"https://www.instagram.com/\",\n",
    "        \"X-Requested-With\": \"XMLHttpRequest\"\n",
    "    }\n",
    "\n",
    "\n",
    "    if custom_header:\n",
    "        headers.update(custom_headers)\n",
    "\n",
    "    return headers\n"
   ]
  },
  {
   "cell_type": "code",
   "execution_count": 8,
   "metadata": {},
   "outputs": [],
   "source": [
    "session.headers[\"x-csrftoken\"] = csrf_token\n",
    "form_data= {\n",
    "    \"email\": \"visabef623@perceint.com\",\n",
    "    \"first_name\": \"Vis Abef\",\n",
    "    \"username\": \"visabef\",\n",
    "    }\n",
    "\n",
    "\n",
    "form_data[\"enc_password\"] = f\"#PWD_INSTAGRAM_BROWSER:10:{time.time()}:{r\"%iqJT%9z+Fs:xVxV\"}\"\n",
    "attempt_response = session.post(\n",
    "    \"https://www.instagram.com/api/v1/web/accounts/web_create_ajax/attempt/\",\n",
    "    data=form_data, # Was JSON before, there's a difference between form data and JSON body\n",
    "    cookies=cookies,\n",
    ")"
   ]
  },
  {
   "cell_type": "code",
   "execution_count": 9,
   "metadata": {},
   "outputs": [
    {
     "data": {
      "text/plain": [
       "{'status': 200,\n",
       " 'message': '{\"account_created\": false, \"errors\": {\"__all__\": [{\"message\": \"Create a password at least 6 characters long.\", \"code\": \"too_short_password\"}]}, \"dryrun_passed\": false, \"username_suggestions\": [\"visabef\", \"visabef623\", \"visabef4\", \"visabef59\", \"visabef785\", \"visabef7624\", \"visabef9\", \"visabef24\", \"visabef140\", \"visabef9450\", \"visabef1\"], \"status\": \"ok\", \"error_type\": \"form_validation_error\"}'}"
      ]
     },
     "execution_count": 9,
     "metadata": {},
     "output_type": "execute_result"
    }
   ],
   "source": [
    "{\"status\": attempt_response.status_code, \"message\": attempt_response.content.decode(\"utf-8\")}"
   ]
  },
  {
   "cell_type": "code",
   "execution_count": 10,
   "metadata": {},
   "outputs": [
    {
     "data": {
      "text/plain": [
       "b'{\"account_created\": false, \"errors\": {\"__all__\": [{\"message\": \"Create a password at least 6 characters long.\", \"code\": \"too_short_password\"}]}, \"dryrun_passed\": false, \"username_suggestions\": [\"visabef\", \"visabef623\", \"visabef4\", \"visabef59\", \"visabef785\", \"visabef7624\", \"visabef9\", \"visabef24\", \"visabef140\", \"visabef9450\", \"visabef1\"], \"status\": \"ok\", \"error_type\": \"form_validation_error\"}'"
      ]
     },
     "execution_count": 10,
     "metadata": {},
     "output_type": "execute_result"
    }
   ],
   "source": [
    "attempt_response.content"
   ]
  },
  {
   "cell_type": "code",
   "execution_count": null,
   "metadata": {},
   "outputs": [
    {
     "data": {
      "text/plain": [
       "{'status': 200,\n",
       " 'message': '{\"account_created\": false, \"errors\": {\"force_sign_up_code\": [{\"message\": \"That code isn\\'t valid. You can request a new one.\", \"code\": \"email_code_incorrect\"}]}, \"status\": \"ok\", \"error_type\": \"form_validation_error\"}'}"
      ]
     },
     "execution_count": 9,
     "metadata": {},
     "output_type": "execute_result"
    }
   ],
   "source": [
    "import random, json\n",
    "# Decode the byte string to a regular string\n",
    "string_data = attempt_response.content.decode('utf-8')\n",
    "\n",
    "# Parse the string as JSON (dictionary)\n",
    "data_dict = json.loads(string_data)\n",
    "\n",
    "chosen_username = random.choice(data_dict[\"username_suggestions\"])\n",
    "\n",
    "# Harcoded since I want that ashkanmehravand\n",
    "chosen_username = \"ashkanmehravand\"\n",
    "form_data[\"username\"] = chosen_username\n",
    "session.headers[\"x-csrftoken\"] = csrf_token\n",
    "session.headers[\"Content-Type\"] = \"application/x-www-form-urlencoded\"\n",
    "form_data[\"enc_password\"] = f\"#PWD_INSTAGRAM_BROWSER:10:{time.time()}:{\"jimmyshimmy6_\"}\"\n",
    "attempt_response = session.post(\n",
    "    \"https://www.instagram.com/api/v1/web/accounts/web_create_ajax/\",\n",
    "    data=form_data, # Was JSON before, there's a difference between form data and JSON body\n",
    "    cookies=cookies,\n",
    ")\n",
    "{\"status\": attempt_response.status_code, \"message\": attempt_response.content.decode(\"utf-8\")}\n",
    "\n"
   ]
  },
  {
   "cell_type": "code",
   "execution_count": null,
   "metadata": {},
   "outputs": [
    {
     "name": "stdout",
     "output_type": "stream",
     "text": [
      "{'message': 'CSRF token missing or incorrect', 'status': 'fail'}\n"
     ]
    }
   ],
   "source": [
    "response = requests.post(\n",
    "    \"https://www.instagram.com/api/v1/web/accounts/web_create_ajax/\",\n",
    "    cookies=attempt_response.cookies,\n",
    "    headers=attempt_response.headers,\n",
    "    data=payload,\n",
    ")\n",
    "print(response.json())\n"
   ]
  },
  {
   "cell_type": "code",
   "execution_count": null,
   "metadata": {},
   "outputs": [],
   "source": []
  },
  {
   "cell_type": "markdown",
   "metadata": {},
   "source": [
    "### Going with `http` library"
   ]
  },
  {
   "cell_type": "code",
   "execution_count": null,
   "metadata": {},
   "outputs": [],
   "source": [
    "import http.client\n",
    "\n",
    "conn = http.client.HTTPSConnection('www.instagram.com')\n",
    "headers = {\n",
    "    'accept': 'text/html,application/xhtml+xml,application/xml;q=0.9,image/avif,image/webp,image/apng,*/*;q=0.8,application/signed-exchange;v=b3;q=0.7',\n",
    "    'accept-language': 'en-US,en;q=0.9',\n",
    "    'cache-control': 'max-age=0',\n",
    "    # 'cookie': 'csrftoken=FIpBulKcQtH-ryz7eTs4oq', # For the first request I don't have this\n",
    "    'dnt': '1',\n",
    "    'dpr': '1',\n",
    "    'priority': 'u=0, i',\n",
    "    'sec-ch-prefers-color-scheme': 'dark',\n",
    "    'sec-ch-ua': '\"Not A(Brand\";v=\"8\", \"Chromium\";v=\"132\", \"Google Chrome\";v=\"132\"',\n",
    "    'sec-ch-ua-full-version-list': '\"Not A(Brand\";v=\"8.0.0.0\", \"Chromium\";v=\"132.0.6834.160\", \"Google Chrome\";v=\"132.0.6834.160\"',\n",
    "    'sec-ch-ua-mobile': '?0',\n",
    "    'sec-ch-ua-model': '\"\"',\n",
    "    'sec-ch-ua-platform': '\"Windows\"',\n",
    "    'sec-ch-ua-platform-version': '\"19.0.0\"',\n",
    "    'sec-fetch-dest': 'document',\n",
    "    'sec-fetch-mode': 'navigate',\n",
    "    'sec-fetch-site': 'same-origin',\n",
    "    'sec-fetch-user': '?1',\n",
    "    'upgrade-insecure-requests': '1',\n",
    "    'user-agent': 'Mozilla/5.0 (Windows NT 10.0; Win64; x64) AppleWebKit/537.36 (KHTML, like Gecko) Chrome/132.0.0.0 Safari/537.36',\n",
    "    'viewport-width': '1167',\n",
    "}\n",
    "conn.request('GET', '/accounts/emailsignup/', headers=headers)\n",
    "response = conn.getresponse()"
   ]
  },
  {
   "cell_type": "markdown",
   "metadata": {},
   "source": [
    "### 2CAPTCHA (~~Cheap~~ Honorable Human Labour)"
   ]
  },
  {
   "cell_type": "code",
   "execution_count": 1,
   "metadata": {},
   "outputs": [],
   "source": [
    "import os\n",
    "import random\n",
    "from bs4 import BeautifulSoup\n",
    "from dotenv import load_dotenv\n",
    "from twocaptcha import TwoCaptcha\n",
    "import requests\n",
    "\n",
    "load_dotenv()\n",
    "\n",
    "API_KEY = os.getenv(\"2CAPTCHA_API_KEY\")\n",
    "URL = \"https://www.scrapebay.com/spam\"\n",
    "\n",
    "solver = TwoCaptcha(apiKey=API_KEY)\n",
    "\n",
    "def get_csrf_cookie(url):\n",
    "    response = requests.get(url=url)\n",
    "    soup = BeautifulSoup(response.text, \"lxml\") # Why lxml? It's faster than the built-in parser\n",
    "    csrf_middleware_token = soup.select_one(\"input[name=csrfmiddlewaretoken]\")[\"value\"]\n",
    "    cookies = response.cookies.get_dict()\n",
    "    return csrf_middleware_token, cookies\n",
    "\n",
    "def solve_captcha(url):\n",
    "    # csrf_middleware_token, cookies = get_csrf_cookie(url)\n",
    "    soup = BeautifulSoup(requests.get(url).text, \"lxml\")\n",
    "    element = soup.select_one(\"div.g-recaptcha\")\n",
    "    if element:\n",
    "        sitekey = element.get(\"data-sitekey\")\n",
    "    \n",
    "    try:\n",
    "        response = solver.recaptcha(\n",
    "            sitekey= sitekey,\n",
    "            url=URL,\n",
    "            version=..., # Optional for v2 and v3 unless it's v1\n",
    "        )\n",
    "        print(response)\n",
    "    except:\n",
    "        print(\"Failed to solve captcha\")\n",
    "        input()\n",
    "        exit()\n",
    "    return response[\"code\"]\n",
    "\n",
    "# Posting the solved reCAPTCHA\n",
    "def post_page(url, csrf_middleware_token, cookies, captcha_response):\n",
    "    headers = {\n",
    "        \"User-Agent\": \"Mozilla/5.0 (Windows NT 10.0; Win64; x64) AppleWebKit/537.36 (KHTML, like Gecko) Chrome/\" + str(random.randint(50, 80)) + \".0.0.0 Safari/537.36\",\n",
    "        \"Referer\": url,\n",
    "        \"X-Requested-With\": \"XMLHttpRequest\",\n",
    "        \"Content-Type\": \"application/x-www-form-urlencoded\",\n",
    "    }\n",
    "    # payload = {\n",
    "    #     \"csrfmiddlewaretoken\": csrf_middleware_token,\n",
    "    #     \"g-recaptcha-response\": captcha_response,\n",
    "    # }\n",
    "    # or form_data???\n",
    "    payload = \"csrfmiddlewaretoken=\" + csrf_middleware_token + \"&g-recaptcha-response=\" + captcha_response\n",
    "    response = requests.post(url, data=payload, \n",
    "                             cookies=cookies, \n",
    "                             headers=headers,\n",
    "                             )\n",
    "    \n",
    "    soup = BeautifulSoup(response.text, \"lxml\")\n",
    "    targeted_text = soup.select_one('td:last-child').text # or .get_text() or .string\n",
    "    return targeted_text"
   ]
  },
  {
   "cell_type": "code",
   "execution_count": 2,
   "metadata": {},
   "outputs": [
    {
     "name": "stdout",
     "output_type": "stream",
     "text": [
      "Received CSRF Token and Cookies\n",
      "{'captchaId': '78805112547', 'code': '03AFcWeA6FO2F8TZyxUor1qKBSW7eg86xLHjUYRxcM8_qYaJNxH1PuE36mbOncXDm_a7eyBRor1Bm7aXejEJ4cfQltmsa4YE19_uGOrtrwD4uKIFRbgy0NXUeUk-DzRrlQLJ8rnJa1JnGUWpIijN4B7SeCh0swCbTwYcB6XzSYUfYACPZy1BuMFFknwlH5russ7lk3pqgIA3bJWK2ENU_CUEuD4VNt55Kri8pfanPeMVS71SDJAOBaLhDi9gSLReL3THPa1BfZ_VD8ztWz3xInXPMq71QTZrVvP8LJYrMkPSzpP4kbL575I59AfJPkfqcqvcxBJge6toe8ZF16yc4uez7bi2UBZCcSKyGurmHlDrrV94fVAEtnWo5kXpDG3d6O0M7DI3W5ICou9s08VztHztj5GBuguQtR380dUfDhw8jhbzAnLX_dZiMMbUffqDQvndZC1iQPu92az-dJ7c0Y992pOw6bE1kcNoqWCSm6hByf6fL6NxcbS776Ssog22cmJmeOOl0jw9HS6FZIbhSzkaQrsDDrI7UDrWyoJnFjgRpCZdg0FaMB95p4aCqAHkQZielB6ZrdJ9F8pzYiDZBGr1j4CLnhN9laIDZdusshXxVmLfI8tAMZL8fVHo7Nwwosu47ykMnXf0u6gdNNUXIOh5Mpy7I7Qr0_UUBuSQFg70xxGIsoQnyuz3U0a1SUYxLpGLvnDPfirHbxgid6iKPJgAER7VmDs6QtX0Y7UnifQONcM2uBq2CV_-Mz8TsIEX2oXD7cjKcf3i6zROJOlCYOTYkFWUVoS79OBfsIK7PtJJdIajxwKjzOLL7ZYCzEi0Kx_9zujMA-GVEHVtbgic3DNOdn4jC2hUNA-ftY2VYcg_XR1pbz1X_s7Y7Yk0oacwQNV2EpOQdZ2Ixl1CX2ytwdoDI1Pg7EHKG7JfpFz9CDa0nsgh3KDDja5Pkz9I4EgCbLO8d2QbMwWbV5L1p5dBkXNc8fMV4s1OUMa_XLwQHgGp94ukUr0PANZUa_TURx4YDgX07z8I95YGudj2OnHRK6t29klOJ5cOgPIg'}\n",
      "Solved the captcha\n",
      "ThisIsNotPassword\n"
     ]
    }
   ],
   "source": [
    "csrf, cookie = get_csrf_cookie(URL)\n",
    "print(\"Received CSRF Token and Cookies\")\n",
    "result = solve_captcha(url=URL)\n",
    "print(\"Solved the captcha\")\n",
    "data = post_page(URL, csrf, cookie, result)\n",
    "print(data)"
   ]
  }
 ],
 "metadata": {
  "kernelspec": {
   "display_name": ".venv",
   "language": "python",
   "name": "python3"
  },
  "language_info": {
   "codemirror_mode": {
    "name": "ipython",
    "version": 3
   },
   "file_extension": ".py",
   "mimetype": "text/x-python",
   "name": "python",
   "nbconvert_exporter": "python",
   "pygments_lexer": "ipython3",
   "version": "3.13.1"
  }
 },
 "nbformat": 4,
 "nbformat_minor": 2
}
