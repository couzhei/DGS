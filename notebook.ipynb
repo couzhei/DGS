{
 "cells": [
  {
   "cell_type": "code",
   "execution_count": 3,
   "metadata": {},
   "outputs": [],
   "source": [
    "import requests\n",
    "import time\n",
    "\n",
    "session = requests.Session()\n",
    "headers = {\n",
    "    'Accept': 'text/html,application/xhtml+xml,application/xml;q=0.9,image/avif,image/webp,image/apng,*/*;q=0.8,application/signed-exchange;v=b3;q=0.7',\n",
    "    'Accept-Language': 'en-US,en;q=0.9',\n",
    "    'Cache-Control': 'max-age=0',\n",
    "    'DNT': '1',\n",
    "    'DPR': '1.25',\n",
    "    'Priority': 'u=0, i',\n",
    "    'Sec-CH-Prefers-Color-Scheme': 'dark',\n",
    "    'Sec-CH-UA': '\"Not A(Brand\";v=\"8\", \"Chromium\";v=\"132\", \"Google Chrome\";v=\"132\"',\n",
    "    'Sec-CH-UA-Full-Version-List': '\"Not A(Brand\";v=\"8.0.0.0\", \"Chromium\";v=\"132.0.6834.160\", \"Google Chrome\";v=\"132.0.6834.160\"',\n",
    "    'Sec-CH-UA-Mobile': '?0',\n",
    "    'Sec-CH-UA-Model': '\"\"',\n",
    "    'Sec-CH-UA-Platform': '\"Windows\"',\n",
    "    'Sec-CH-UA-Platform-Version': '\"19.0.0\"',\n",
    "    'Sec-Fetch-Dest': 'document',\n",
    "    'Sec-Fetch-Mode': 'navigate',\n",
    "    'Sec-Fetch-Site': 'same-origin',\n",
    "    'Sec-Fetch-User': '?1',\n",
    "    'Upgrade-Insecure-Requests': '1',\n",
    "    'User-Agent': 'Mozilla/5.0 (Windows NT 10.0; Win64; x64) AppleWebKit/537.36 (KHTML, like Gecko) Chrome/132.0.0.0 Safari/537.36',\n",
    "    'Viewport-Width': '150',\n",
    "}\n",
    "\n",
    "response = session.get(\"https://www.instagram.com/accounts/emailsignup/\", headers=session.headers)\n",
    "csrf_token = session.cookies.get(\"csrftoken\")\n",
    "\n",
    "\n",
    "form_data= {\n",
    "    \"email\": \"ashkanmehravand@gmail.com\",\n",
    "    \"first_name\": \"Ashkan Mehravand\",\n",
    "    \"username\": \"ashkanmehr\",\n",
    "    }\n",
    "\n",
    "\n",
    "cookies = {\n",
    "    \"csrftoken\": csrf_token,\n",
    "}\n",
    "\n",
    "time.sleep(2.718281828459045 * 0)"
   ]
  },
  {
   "cell_type": "code",
   "execution_count": 4,
   "metadata": {},
   "outputs": [
    {
     "name": "stdout",
     "output_type": "stream",
     "text": [
      "{'csrftoken': 'QkInHoVo9bASL2e0f8TQhU'}\n"
     ]
    }
   ],
   "source": [
    "print(session.cookies.get_dict())"
   ]
  },
  {
   "cell_type": "code",
   "execution_count": 5,
   "metadata": {},
   "outputs": [
    {
     "data": {
      "text/plain": [
       "'QkInHoVo9bASL2e0f8TQhU'"
      ]
     },
     "execution_count": 5,
     "metadata": {},
     "output_type": "execute_result"
    }
   ],
   "source": [
    "csrf_token"
   ]
  },
  {
   "cell_type": "code",
   "execution_count": 13,
   "metadata": {},
   "outputs": [],
   "source": [
    "def get_standard_header(custom_header: dict = None) -> dict:\n",
    "    \"\"\"\n",
    "    Returns the standard Instagram headers. Optionally merges with custom headers.\n",
    "    \n",
    "    Parameters:\n",
    "        custom_headers (dict): A dictionary of custom headers to add or override.\n",
    "    \n",
    "    Returns:\n",
    "        dict: The final headers for the request.\n",
    "    \"\"\"\n",
    "    headers = {\n",
    "        \"User-Agent\": \"Mozilla/5.0 (Windows NT 10.0; Win64; x64) AppleWebKit/537.36 (KHTML, like Gecko) Chrome/123.0.0.0 Safari/537.36\",\n",
    "        \"Referer\": \"https://www.instagram.com/\",\n",
    "        \"X-Requested-With\": \"XMLHttpRequest\"\n",
    "    }\n",
    "\n",
    "\n",
    "    if custom_header:\n",
    "        headers.update(custom_headers)\n",
    "\n",
    "    return headers\n"
   ]
  },
  {
   "cell_type": "code",
   "execution_count": 6,
   "metadata": {},
   "outputs": [],
   "source": [
    "session.headers[\"x-csrftoken\"] = csrf_token\n",
    "form_data= {\n",
    "    \"email\": \"ashkanmehravand@gmail.com\",\n",
    "    \"first_name\": \"Ashkan Mehravand\",\n",
    "    \"username\": \"ashkanmehr\",\n",
    "    }\n",
    "\n",
    "form_data[\"enc_password\"] = f\"#PWD_INSTAGRAM_BROWSER:0:{time.time()}:{r\"%iqJT%9z+Fs:xVxV\"}\"\n",
    "attempt_response = session.post(\n",
    "    \"https://www.instagram.com/api/v1/web/accounts/web_create_ajax/attempt/\",\n",
    "    data=form_data, # Was JSON before, there's a difference between form data and JSON body\n",
    "    cookies=cookies,\n",
    ")"
   ]
  },
  {
   "cell_type": "code",
   "execution_count": 7,
   "metadata": {},
   "outputs": [
    {
     "data": {
      "text/plain": [
       "{'status': 200,\n",
       " 'message': '{\"account_created\": false, \"errors\": {\"username\": [{\"message\": \"This username isn\\'t available. Please try another.\", \"code\": \"username_is_taken\"}], \"__all__\": [{\"message\": \"Create a password at least 6 characters long.\", \"code\": \"too_short_password\"}]}, \"dryrun_passed\": false, \"username_suggestions\": [\"ashkanmehravand\", \"ashkanmehravand8\", \"ashkanmehravand27\", \"ashkanmehravand582\", \"ashkanmehravand3689\", \"ashkanmehravand3\", \"ashkanmehravand24\", \"ashkanmehravand698\", \"ashkanmehravand3038\", \"ashkanmehravand1\", \"ashkanmehravand81\"], \"status\": \"ok\", \"error_type\": \"form_validation_error\"}'}"
      ]
     },
     "execution_count": 7,
     "metadata": {},
     "output_type": "execute_result"
    }
   ],
   "source": [
    "{\"status\": attempt_response.status_code, \"message\": attempt_response.content.decode(\"utf-8\")}"
   ]
  },
  {
   "cell_type": "code",
   "execution_count": 23,
   "metadata": {},
   "outputs": [
    {
     "data": {
      "text/plain": [
       "b'{\"account_created\": false, \"errors\": {\"username\": [{\"message\": \"This username isn\\'t available. Please try another.\", \"code\": \"username_is_taken\"}], \"__all__\": [{\"message\": \"Create a password at least 6 characters long.\", \"code\": \"too_short_password\"}]}, \"dryrun_passed\": false, \"username_suggestions\": [\"ashkanmehravand\", \"ashkanmehravand5\", \"ashkanmehravand69\", \"ashkanmehravand503\", \"ashkanmehravand1855\", \"ashkanmehravand4\", \"ashkanmehravand52\", \"ashkanmehravand689\", \"ashkanmehravand5569\", \"ashkanmehravand7\", \"ashkanmehravand29\"], \"status\": \"ok\", \"error_type\": \"form_validation_error\"}'"
      ]
     },
     "execution_count": 23,
     "metadata": {},
     "output_type": "execute_result"
    }
   ],
   "source": [
    "attempt_response.content"
   ]
  },
  {
   "cell_type": "code",
   "execution_count": 9,
   "metadata": {},
   "outputs": [
    {
     "data": {
      "text/plain": [
       "{'status': 200,\n",
       " 'message': '{\"account_created\": false, \"errors\": {\"force_sign_up_code\": [{\"message\": \"That code isn\\'t valid. You can request a new one.\", \"code\": \"email_code_incorrect\"}]}, \"status\": \"ok\", \"error_type\": \"form_validation_error\"}'}"
      ]
     },
     "execution_count": 9,
     "metadata": {},
     "output_type": "execute_result"
    }
   ],
   "source": [
    "import random, json\n",
    "# Decode the byte string to a regular string\n",
    "string_data = attempt_response.content.decode('utf-8')\n",
    "\n",
    "# Parse the string as JSON (dictionary)\n",
    "data_dict = json.loads(string_data)\n",
    "\n",
    "chosen_username = random.choice(data_dict[\"username_suggestions\"])\n",
    "\n",
    "# Harcoded since I want that ashkanmehravand\n",
    "chosen_username = \"ashkanmehravand\"\n",
    "form_data[\"username\"] = chosen_username\n",
    "session.headers[\"x-csrftoken\"] = csrf_token\n",
    "session.headers[\"Content-Type\"] = \"application/x-www-form-urlencoded\"\n",
    "form_data[\"enc_password\"] = f\"#PWD_INSTAGRAM_BROWSER:0:{time.time()}:{\"jimmyshimmy6_\"}\"\n",
    "attempt_response = session.post(\n",
    "    \"https://www.instagram.com/api/v1/web/accounts/web_create_ajax/\",\n",
    "    data=form_data, # Was JSON before, there's a difference between form data and JSON body\n",
    "    cookies=cookies,\n",
    ")\n",
    "{\"status\": attempt_response.status_code, \"message\": attempt_response.content.decode(\"utf-8\")}\n",
    "\n"
   ]
  },
  {
   "cell_type": "code",
   "execution_count": null,
   "metadata": {},
   "outputs": [
    {
     "name": "stdout",
     "output_type": "stream",
     "text": [
      "{'message': 'CSRF token missing or incorrect', 'status': 'fail'}\n"
     ]
    }
   ],
   "source": [
    "response = requests.post(\n",
    "    \"https://www.instagram.com/api/v1/web/accounts/web_create_ajax/\",\n",
    "    cookies=attempt_response.cookies,\n",
    "    headers=attempt_response.headers,\n",
    "    data=payload,\n",
    ")\n",
    "print(response.json())\n"
   ]
  },
  {
   "cell_type": "code",
   "execution_count": null,
   "metadata": {},
   "outputs": [],
   "source": []
  },
  {
   "cell_type": "markdown",
   "metadata": {},
   "source": [
    "### Going with `http` library"
   ]
  },
  {
   "cell_type": "code",
   "execution_count": null,
   "metadata": {},
   "outputs": [],
   "source": [
    "import http.client\n",
    "\n",
    "conn = http.client.HTTPSConnection('www.instagram.com')\n",
    "headers = {\n",
    "    'accept': 'text/html,application/xhtml+xml,application/xml;q=0.9,image/avif,image/webp,image/apng,*/*;q=0.8,application/signed-exchange;v=b3;q=0.7',\n",
    "    'accept-language': 'en-US,en;q=0.9',\n",
    "    'cache-control': 'max-age=0',\n",
    "    # 'cookie': 'csrftoken=FIpBulKcQtH-ryz7eTs4oq', # For the first request I don't have this\n",
    "    'dnt': '1',\n",
    "    'dpr': '1',\n",
    "    'priority': 'u=0, i',\n",
    "    'sec-ch-prefers-color-scheme': 'dark',\n",
    "    'sec-ch-ua': '\"Not A(Brand\";v=\"8\", \"Chromium\";v=\"132\", \"Google Chrome\";v=\"132\"',\n",
    "    'sec-ch-ua-full-version-list': '\"Not A(Brand\";v=\"8.0.0.0\", \"Chromium\";v=\"132.0.6834.160\", \"Google Chrome\";v=\"132.0.6834.160\"',\n",
    "    'sec-ch-ua-mobile': '?0',\n",
    "    'sec-ch-ua-model': '\"\"',\n",
    "    'sec-ch-ua-platform': '\"Windows\"',\n",
    "    'sec-ch-ua-platform-version': '\"19.0.0\"',\n",
    "    'sec-fetch-dest': 'document',\n",
    "    'sec-fetch-mode': 'navigate',\n",
    "    'sec-fetch-site': 'same-origin',\n",
    "    'sec-fetch-user': '?1',\n",
    "    'upgrade-insecure-requests': '1',\n",
    "    'user-agent': 'Mozilla/5.0 (Windows NT 10.0; Win64; x64) AppleWebKit/537.36 (KHTML, like Gecko) Chrome/132.0.0.0 Safari/537.36',\n",
    "    'viewport-width': '1167',\n",
    "}\n",
    "conn.request('GET', '/accounts/emailsignup/', headers=headers)\n",
    "response = conn.getresponse()"
   ]
  },
  {
   "cell_type": "code",
   "execution_count": null,
   "metadata": {},
   "outputs": [],
   "source": []
  }
 ],
 "metadata": {
  "kernelspec": {
   "display_name": ".venv",
   "language": "python",
   "name": "python3"
  },
  "language_info": {
   "codemirror_mode": {
    "name": "ipython",
    "version": 3
   },
   "file_extension": ".py",
   "mimetype": "text/x-python",
   "name": "python",
   "nbconvert_exporter": "python",
   "pygments_lexer": "ipython3",
   "version": "3.13.1"
  }
 },
 "nbformat": 4,
 "nbformat_minor": 2
}
