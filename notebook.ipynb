{
 "cells": [
  {
   "cell_type": "code",
   "execution_count": 3,
   "metadata": {},
   "outputs": [],
   "source": [
    "import requests\n",
    "import time\n",
    "\n",
    "session = requests.Session()\n",
    "headers = {\n",
    "    'Accept': 'text/html,application/xhtml+xml,application/xml;q=0.9,image/avif,image/webp,image/apng,*/*;q=0.8,application/signed-exchange;v=b3;q=0.7',\n",
    "    'Accept-Language': 'en-US,en;q=0.9',\n",
    "    'Cache-Control': 'max-age=0',\n",
    "    'DNT': '1',\n",
    "    'DPR': '1.25',\n",
    "    'Priority': 'u=0, i',\n",
    "    'Sec-CH-Prefers-Color-Scheme': 'dark',\n",
    "    'Sec-CH-UA': '\"Not A(Brand\";v=\"8\", \"Chromium\";v=\"132\", \"Google Chrome\";v=\"132\"',\n",
    "    'Sec-CH-UA-Full-Version-List': '\"Not A(Brand\";v=\"8.0.0.0\", \"Chromium\";v=\"132.0.6834.160\", \"Google Chrome\";v=\"132.0.6834.160\"',\n",
    "    'Sec-CH-UA-Mobile': '?0',\n",
    "    'Sec-CH-UA-Model': '\"\"',\n",
    "    'Sec-CH-UA-Platform': '\"Windows\"',\n",
    "    'Sec-CH-UA-Platform-Version': '\"19.0.0\"',\n",
    "    'Sec-Fetch-Dest': 'document',\n",
    "    'Sec-Fetch-Mode': 'navigate',\n",
    "    'Sec-Fetch-Site': 'same-origin',\n",
    "    'Sec-Fetch-User': '?1',\n",
    "    'Upgrade-Insecure-Requests': '1',\n",
    "    'User-Agent': 'Mozilla/5.0 (Windows NT 10.0; Win64; x64) AppleWebKit/537.36 (KHTML, like Gecko) Chrome/132.0.0.0 Safari/537.36',\n",
    "    'Viewport-Width': '150',\n",
    "}\n",
    "\n",
    "response = session.get(\"https://www.instagram.com/accounts/emailsignup/\", headers=session.headers)\n",
    "csrf_token = session.cookies.get(\"csrftoken\")\n",
    "\n",
    "\n",
    "form_data= {\n",
    "    \"email\": \"ashkanmehravand@gmail.com\",\n",
    "    \"first_name\": \"Ashkan Mehravand\",\n",
    "    \"username\": \"ashkanmehr\",\n",
    "    }\n",
    "\n",
    "\n",
    "cookies = {\n",
    "    \"csrftoken\": csrf_token,\n",
    "}\n",
    "\n",
    "time.sleep(2.718281828459045 * 0)"
   ]
  },
  {
   "cell_type": "code",
   "execution_count": 4,
   "metadata": {},
   "outputs": [
    {
     "name": "stdout",
     "output_type": "stream",
     "text": [
      "{'csrftoken': 'QkInHoVo9bASL2e0f8TQhU'}\n"
     ]
    }
   ],
   "source": [
    "print(session.cookies.get_dict())"
   ]
  },
  {
   "cell_type": "code",
   "execution_count": 5,
   "metadata": {},
   "outputs": [
    {
     "data": {
      "text/plain": [
       "'QkInHoVo9bASL2e0f8TQhU'"
      ]
     },
     "execution_count": 5,
     "metadata": {},
     "output_type": "execute_result"
    }
   ],
   "source": [
    "csrf_token"
   ]
  },
  {
   "cell_type": "code",
   "execution_count": 13,
   "metadata": {},
   "outputs": [],
   "source": [
    "def get_standard_header(custom_header: dict = None) -> dict:\n",
    "    \"\"\"\n",
    "    Returns the standard Instagram headers. Optionally merges with custom headers.\n",
    "    \n",
    "    Parameters:\n",
    "        custom_headers (dict): A dictionary of custom headers to add or override.\n",
    "    \n",
    "    Returns:\n",
    "        dict: The final headers for the request.\n",
    "    \"\"\"\n",
    "    headers = {\n",
    "        \"User-Agent\": \"Mozilla/5.0 (Windows NT 10.0; Win64; x64) AppleWebKit/537.36 (KHTML, like Gecko) Chrome/123.0.0.0 Safari/537.36\",\n",
    "        \"Referer\": \"https://www.instagram.com/\",\n",
    "        \"X-Requested-With\": \"XMLHttpRequest\"\n",
    "    }\n",
    "\n",
    "\n",
    "    if custom_header:\n",
    "        headers.update(custom_headers)\n",
    "\n",
    "    return headers\n"
   ]
  },
  {
   "cell_type": "code",
   "execution_count": 6,
   "metadata": {},
   "outputs": [],
   "source": [
    "session.headers[\"x-csrftoken\"] = csrf_token\n",
    "form_data= {\n",
    "    \"email\": \"ashkanmehravand@gmail.com\",\n",
    "    \"first_name\": \"Ashkan Mehravand\",\n",
    "    \"username\": \"ashkanmehr\",\n",
    "    }\n",
    "\n",
    "form_data[\"enc_password\"] = f\"#PWD_INSTAGRAM_BROWSER:0:{time.time()}:{r\"%iqJT%9z+Fs:xVxV\"}\"\n",
    "attempt_response = session.post(\n",
    "    \"https://www.instagram.com/api/v1/web/accounts/web_create_ajax/attempt/\",\n",
    "    data=form_data, # Was JSON before, there's a difference between form data and JSON body\n",
    "    cookies=cookies,\n",
    ")"
   ]
  },
  {
   "cell_type": "code",
   "execution_count": 7,
   "metadata": {},
   "outputs": [
    {
     "data": {
      "text/plain": [
       "{'status': 200,\n",
       " 'message': '{\"account_created\": false, \"errors\": {\"username\": [{\"message\": \"This username isn\\'t available. Please try another.\", \"code\": \"username_is_taken\"}], \"__all__\": [{\"message\": \"Create a password at least 6 characters long.\", \"code\": \"too_short_password\"}]}, \"dryrun_passed\": false, \"username_suggestions\": [\"ashkanmehravand\", \"ashkanmehravand8\", \"ashkanmehravand27\", \"ashkanmehravand582\", \"ashkanmehravand3689\", \"ashkanmehravand3\", \"ashkanmehravand24\", \"ashkanmehravand698\", \"ashkanmehravand3038\", \"ashkanmehravand1\", \"ashkanmehravand81\"], \"status\": \"ok\", \"error_type\": \"form_validation_error\"}'}"
      ]
     },
     "execution_count": 7,
     "metadata": {},
     "output_type": "execute_result"
    }
   ],
   "source": [
    "{\"status\": attempt_response.status_code, \"message\": attempt_response.content.decode(\"utf-8\")}"
   ]
  },
  {
   "cell_type": "code",
   "execution_count": 23,
   "metadata": {},
   "outputs": [
    {
     "data": {
      "text/plain": [
       "b'{\"account_created\": false, \"errors\": {\"username\": [{\"message\": \"This username isn\\'t available. Please try another.\", \"code\": \"username_is_taken\"}], \"__all__\": [{\"message\": \"Create a password at least 6 characters long.\", \"code\": \"too_short_password\"}]}, \"dryrun_passed\": false, \"username_suggestions\": [\"ashkanmehravand\", \"ashkanmehravand5\", \"ashkanmehravand69\", \"ashkanmehravand503\", \"ashkanmehravand1855\", \"ashkanmehravand4\", \"ashkanmehravand52\", \"ashkanmehravand689\", \"ashkanmehravand5569\", \"ashkanmehravand7\", \"ashkanmehravand29\"], \"status\": \"ok\", \"error_type\": \"form_validation_error\"}'"
      ]
     },
     "execution_count": 23,
     "metadata": {},
     "output_type": "execute_result"
    }
   ],
   "source": [
    "attempt_response.content"
   ]
  },
  {
   "cell_type": "code",
   "execution_count": 9,
   "metadata": {},
   "outputs": [
    {
     "data": {
      "text/plain": [
       "{'status': 200,\n",
       " 'message': '{\"account_created\": false, \"errors\": {\"force_sign_up_code\": [{\"message\": \"That code isn\\'t valid. You can request a new one.\", \"code\": \"email_code_incorrect\"}]}, \"status\": \"ok\", \"error_type\": \"form_validation_error\"}'}"
      ]
     },
     "execution_count": 9,
     "metadata": {},
     "output_type": "execute_result"
    }
   ],
   "source": [
    "import random, json\n",
    "# Decode the byte string to a regular string\n",
    "string_data = attempt_response.content.decode('utf-8')\n",
    "\n",
    "# Parse the string as JSON (dictionary)\n",
    "data_dict = json.loads(string_data)\n",
    "\n",
    "chosen_username = random.choice(data_dict[\"username_suggestions\"])\n",
    "\n",
    "# Harcoded since I want that ashkanmehravand\n",
    "chosen_username = \"ashkanmehravand\"\n",
    "form_data[\"username\"] = chosen_username\n",
    "session.headers[\"x-csrftoken\"] = csrf_token\n",
    "session.headers[\"Content-Type\"] = \"application/x-www-form-urlencoded\"\n",
    "form_data[\"enc_password\"] = f\"#PWD_INSTAGRAM_BROWSER:0:{time.time()}:{\"jimmyshimmy6_\"}\"\n",
    "attempt_response = session.post(\n",
    "    \"https://www.instagram.com/api/v1/web/accounts/web_create_ajax/\",\n",
    "    data=form_data, # Was JSON before, there's a difference between form data and JSON body\n",
    "    cookies=cookies,\n",
    ")\n",
    "{\"status\": attempt_response.status_code, \"message\": attempt_response.content.decode(\"utf-8\")}\n",
    "\n"
   ]
  },
  {
   "cell_type": "code",
   "execution_count": null,
   "metadata": {},
   "outputs": [
    {
     "name": "stdout",
     "output_type": "stream",
     "text": [
      "{'message': 'CSRF token missing or incorrect', 'status': 'fail'}\n"
     ]
    }
   ],
   "source": [
    "response = requests.post(\n",
    "    \"https://www.instagram.com/api/v1/web/accounts/web_create_ajax/\",\n",
    "    cookies=attempt_response.cookies,\n",
    "    headers=attempt_response.headers,\n",
    "    data=payload,\n",
    ")\n",
    "print(response.json())\n"
   ]
  },
  {
   "cell_type": "code",
   "execution_count": null,
   "metadata": {},
   "outputs": [],
   "source": []
  },
  {
   "cell_type": "markdown",
   "metadata": {},
   "source": [
    "### Going with `http` library"
   ]
  },
  {
   "cell_type": "code",
   "execution_count": null,
   "metadata": {},
   "outputs": [],
   "source": [
    "import http.client\n",
    "\n",
    "conn = http.client.HTTPSConnection('www.instagram.com')\n",
    "headers = {\n",
    "    'accept': 'text/html,application/xhtml+xml,application/xml;q=0.9,image/avif,image/webp,image/apng,*/*;q=0.8,application/signed-exchange;v=b3;q=0.7',\n",
    "    'accept-language': 'en-US,en;q=0.9',\n",
    "    'cache-control': 'max-age=0',\n",
    "    # 'cookie': 'csrftoken=FIpBulKcQtH-ryz7eTs4oq', # For the first request I don't have this\n",
    "    'dnt': '1',\n",
    "    'dpr': '1',\n",
    "    'priority': 'u=0, i',\n",
    "    'sec-ch-prefers-color-scheme': 'dark',\n",
    "    'sec-ch-ua': '\"Not A(Brand\";v=\"8\", \"Chromium\";v=\"132\", \"Google Chrome\";v=\"132\"',\n",
    "    'sec-ch-ua-full-version-list': '\"Not A(Brand\";v=\"8.0.0.0\", \"Chromium\";v=\"132.0.6834.160\", \"Google Chrome\";v=\"132.0.6834.160\"',\n",
    "    'sec-ch-ua-mobile': '?0',\n",
    "    'sec-ch-ua-model': '\"\"',\n",
    "    'sec-ch-ua-platform': '\"Windows\"',\n",
    "    'sec-ch-ua-platform-version': '\"19.0.0\"',\n",
    "    'sec-fetch-dest': 'document',\n",
    "    'sec-fetch-mode': 'navigate',\n",
    "    'sec-fetch-site': 'same-origin',\n",
    "    'sec-fetch-user': '?1',\n",
    "    'upgrade-insecure-requests': '1',\n",
    "    'user-agent': 'Mozilla/5.0 (Windows NT 10.0; Win64; x64) AppleWebKit/537.36 (KHTML, like Gecko) Chrome/132.0.0.0 Safari/537.36',\n",
    "    'viewport-width': '1167',\n",
    "}\n",
    "conn.request('GET', '/accounts/emailsignup/', headers=headers)\n",
    "response = conn.getresponse()"
   ]
  },
  {
   "cell_type": "markdown",
   "metadata": {},
   "source": [
    "### 2CAPTCHA (~~Cheap~~ Honorable Human Labour)"
   ]
  },
  {
   "cell_type": "code",
   "execution_count": null,
   "metadata": {},
   "outputs": [],
   "source": [
    "import os\n",
    "import random\n",
    "from bs4 import BeautifulSoup\n",
    "from dotenv import load_dotenv\n",
    "from twocaptcha import TwoCaptcha\n",
    "import requests\n",
    "\n",
    "load_dotenv()\n",
    "\n",
    "API_KEY = os.getenv(\"2CAPTCHA_API_KEY\")\n",
    "URL = \"https://www.scrapebay.com/spam\"\n",
    "\n",
    "solver = TwoCaptcha(apiKey=API_KEY)\n",
    "\n",
    "def get_csrf_cookie(url):\n",
    "    response = requests.get(url=url)\n",
    "    soup = BeautifulSoup(response.text, \"lxml\") # Why lxml? It's faster than the built-in parser\n",
    "    csrf_middleware_token = soup.select_one(\"input[name=csrfmiddlewaretoken]\")[\"value\"]\n",
    "    cookies = response.cookies.get_dict()\n",
    "    return csrf_middleware_token, cookies\n",
    "\n",
    "def solve_captcha(url):\n",
    "    # csrf_middleware_token, cookies = get_csrf_cookie(url)\n",
    "    soup = BeautifulSoup(requests.get(url).text, \"lxml\")\n",
    "    element = soup.select_one(\"div.g-recaptcha\")\n",
    "    if element:\n",
    "        sitekey = element.get(\"data-sitekey\")\n",
    "    \n",
    "    try:\n",
    "        response = solver.recaptcha(\n",
    "            sitekey= sitekey,\n",
    "            url=URL,\n",
    "            version=..., # Optional for v2 and v3 unless it's v1\n",
    "        )\n",
    "        print(response)\n",
    "    except:\n",
    "        print(\"Failed to solve captcha\")\n",
    "        input()\n",
    "        exit()\n",
    "    return response[\"code\"]\n",
    "\n",
    "# Posting the solved reCAPTCHA\n",
    "def post_page(url, csrf_middleware_token, cookies, captcha_response):\n",
    "    headers = {\n",
    "        \"User-Agent\": \"Mozilla/5.0 (Windows NT 10.0; Win64; x64) AppleWebKit/537.36 (KHTML, like Gecko) Chrome/\" + str(random.randint(50, 80)) + \".0.0.0 Safari/537.36\",\n",
    "        \"Referer\": url,\n",
    "        \"X-Requested-With\": \"XMLHttpRequest\",\n",
    "        \"Content-Type\": \"application/x-www-form-urlencoded\",\n",
    "    }\n",
    "    # payload = {\n",
    "    #     \"csrfmiddlewaretoken\": csrf_middleware_token,\n",
    "    #     \"g-recaptcha-response\": captcha_response,\n",
    "    # }\n",
    "    # or form_data???\n",
    "    payload = \"csrfmiddlewaretoken=\" + csrf_middleware_token + \"&g-recaptcha-response=\" + captcha_response\n",
    "    response = requests.post(url, data=payload, \n",
    "                             cookies=cookies, \n",
    "                             headers=headers,\n",
    "                             )\n",
    "    \n",
    "    soup = BeautifulSoup(response.text, \"lxml\")\n",
    "    targeted_text = soup.select_one('td:last-child').text # or .get_text() or .string\n",
    "    return targeted_text"
   ]
  },
  {
   "cell_type": "code",
   "execution_count": null,
   "metadata": {},
   "outputs": [
    {
     "name": "stdout",
     "output_type": "stream",
     "text": [
      "Received CSRF Token and Cookies\n",
      "Failed to solve captcha\n",
      "Solved the captcha\n"
     ]
    },
    {
     "ename": "TypeError",
     "evalue": "can only concatenate str (not \"NoneType\") to str",
     "output_type": "error",
     "traceback": [
      "\u001b[1;31m---------------------------------------------------------------------------\u001b[0m",
      "\u001b[1;31mTypeError\u001b[0m                                 Traceback (most recent call last)",
      "Cell \u001b[1;32mIn[3], line 5\u001b[0m\n\u001b[0;32m      3\u001b[0m result \u001b[38;5;241m=\u001b[39m solve_captcha(url\u001b[38;5;241m=\u001b[39mURL)\n\u001b[0;32m      4\u001b[0m \u001b[38;5;28mprint\u001b[39m(\u001b[38;5;124m\"\u001b[39m\u001b[38;5;124mSolved the captcha\u001b[39m\u001b[38;5;124m\"\u001b[39m)\n\u001b[1;32m----> 5\u001b[0m data \u001b[38;5;241m=\u001b[39m \u001b[43mpost_page\u001b[49m\u001b[43m(\u001b[49m\u001b[43mURL\u001b[49m\u001b[43m,\u001b[49m\u001b[43m \u001b[49m\u001b[43mcsrf\u001b[49m\u001b[43m,\u001b[49m\u001b[43m \u001b[49m\u001b[43mcookie\u001b[49m\u001b[43m,\u001b[49m\u001b[43m \u001b[49m\u001b[43mresult\u001b[49m\u001b[43m)\u001b[49m\n\u001b[0;32m      6\u001b[0m \u001b[38;5;28mprint\u001b[39m(data)\n",
      "Cell \u001b[1;32mIn[2], line 53\u001b[0m, in \u001b[0;36mpost_page\u001b[1;34m(url, csrf_middleware_token, cookies, captcha_response)\u001b[0m\n\u001b[0;32m     42\u001b[0m headers \u001b[38;5;241m=\u001b[39m {\n\u001b[0;32m     43\u001b[0m     \u001b[38;5;124m\"\u001b[39m\u001b[38;5;124mUser-Agent\u001b[39m\u001b[38;5;124m\"\u001b[39m: \u001b[38;5;124m\"\u001b[39m\u001b[38;5;124mMozilla/5.0 (Windows NT 10.0; Win64; x64) AppleWebKit/537.36 (KHTML, like Gecko) Chrome/\u001b[39m\u001b[38;5;124m\"\u001b[39m \u001b[38;5;241m+\u001b[39m \u001b[38;5;28mstr\u001b[39m(random\u001b[38;5;241m.\u001b[39mrandint(\u001b[38;5;241m50\u001b[39m, \u001b[38;5;241m80\u001b[39m)) \u001b[38;5;241m+\u001b[39m \u001b[38;5;124m\"\u001b[39m\u001b[38;5;124m.0.0.0 Safari/537.36\u001b[39m\u001b[38;5;124m\"\u001b[39m,\n\u001b[0;32m     44\u001b[0m     \u001b[38;5;124m\"\u001b[39m\u001b[38;5;124mReferer\u001b[39m\u001b[38;5;124m\"\u001b[39m: url,\n\u001b[0;32m     45\u001b[0m     \u001b[38;5;124m\"\u001b[39m\u001b[38;5;124mX-Requested-With\u001b[39m\u001b[38;5;124m\"\u001b[39m: \u001b[38;5;124m\"\u001b[39m\u001b[38;5;124mXMLHttpRequest\u001b[39m\u001b[38;5;124m\"\u001b[39m,\n\u001b[0;32m     46\u001b[0m     \u001b[38;5;124m\"\u001b[39m\u001b[38;5;124mContent-Type\u001b[39m\u001b[38;5;124m\"\u001b[39m: \u001b[38;5;124m\"\u001b[39m\u001b[38;5;124mapplication/x-www-form-urlencoded\u001b[39m\u001b[38;5;124m\"\u001b[39m,\n\u001b[0;32m     47\u001b[0m }\n\u001b[0;32m     48\u001b[0m \u001b[38;5;66;03m# payload = {\u001b[39;00m\n\u001b[0;32m     49\u001b[0m \u001b[38;5;66;03m#     \"csrfmiddlewaretoken\": csrf_middleware_token,\u001b[39;00m\n\u001b[0;32m     50\u001b[0m \u001b[38;5;66;03m#     \"g-recaptcha-response\": captcha_response,\u001b[39;00m\n\u001b[0;32m     51\u001b[0m \u001b[38;5;66;03m# }\u001b[39;00m\n\u001b[0;32m     52\u001b[0m \u001b[38;5;66;03m# or form_data???\u001b[39;00m\n\u001b[1;32m---> 53\u001b[0m payload \u001b[38;5;241m=\u001b[39m \u001b[38;5;124;43m\"\u001b[39;49m\u001b[38;5;124;43mcsrfmiddlewaretoken=\u001b[39;49m\u001b[38;5;124;43m\"\u001b[39;49m\u001b[43m \u001b[49m\u001b[38;5;241;43m+\u001b[39;49m\u001b[43m \u001b[49m\u001b[43mcsrf_middleware_token\u001b[49m\u001b[43m \u001b[49m\u001b[38;5;241;43m+\u001b[39;49m\u001b[43m \u001b[49m\u001b[38;5;124;43m\"\u001b[39;49m\u001b[38;5;124;43m&g-recaptcha-response=\u001b[39;49m\u001b[38;5;124;43m\"\u001b[39;49m\u001b[43m \u001b[49m\u001b[38;5;241;43m+\u001b[39;49m\u001b[43m \u001b[49m\u001b[43mcaptcha_response\u001b[49m\n\u001b[0;32m     54\u001b[0m response \u001b[38;5;241m=\u001b[39m requests\u001b[38;5;241m.\u001b[39mpost(url, data\u001b[38;5;241m=\u001b[39mpayload, \n\u001b[0;32m     55\u001b[0m                          cookies\u001b[38;5;241m=\u001b[39mcookies, \n\u001b[0;32m     56\u001b[0m                          headers\u001b[38;5;241m=\u001b[39mheaders,\n\u001b[0;32m     57\u001b[0m                          )\n\u001b[0;32m     59\u001b[0m soup \u001b[38;5;241m=\u001b[39m BeautifulSoup(response\u001b[38;5;241m.\u001b[39mtext, \u001b[38;5;124m\"\u001b[39m\u001b[38;5;124mlxml\u001b[39m\u001b[38;5;124m\"\u001b[39m)\n",
      "\u001b[1;31mTypeError\u001b[0m: can only concatenate str (not \"NoneType\") to str"
     ]
    },
    {
     "ename": "",
     "evalue": "",
     "output_type": "error",
     "traceback": [
      "\u001b[1;31mThe Kernel crashed while executing code in the current cell or a previous cell. \n",
      "\u001b[1;31mPlease review the code in the cell(s) to identify a possible cause of the failure. \n",
      "\u001b[1;31mClick <a href='https://aka.ms/vscodeJupyterKernelCrash'>here</a> for more info. \n",
      "\u001b[1;31mView Jupyter <a href='command:jupyter.viewOutput'>log</a> for further details."
     ]
    }
   ],
   "source": [
    "csrf, cookie = get_csrf_cookie(URL)\n",
    "print(\"Received CSRF Token and Cookies\")\n",
    "result = solve_captcha(url=URL)\n",
    "print(\"Solved the captcha\")\n",
    "data = post_page(URL, csrf, cookie, result)\n",
    "print(data)"
   ]
  }
 ],
 "metadata": {
  "kernelspec": {
   "display_name": ".venv",
   "language": "python",
   "name": "python3"
  },
  "language_info": {
   "codemirror_mode": {
    "name": "ipython",
    "version": 3
   },
   "file_extension": ".py",
   "mimetype": "text/x-python",
   "name": "python",
   "nbconvert_exporter": "python",
   "pygments_lexer": "ipython3",
   "version": "3.13.1"
  }
 },
 "nbformat": 4,
 "nbformat_minor": 2
}
